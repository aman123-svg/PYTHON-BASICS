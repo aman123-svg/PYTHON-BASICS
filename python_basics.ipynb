{
  "nbformat": 4,
  "nbformat_minor": 0,
  "metadata": {
    "colab": {
      "provenance": []
    },
    "kernelspec": {
      "name": "python3",
      "display_name": "Python 3"
    },
    "language_info": {
      "name": "python"
    }
  },
  "cells": [
    {
      "cell_type": "code",
      "execution_count": null,
      "metadata": {
        "id": "qONHzs2SIq9R"
      },
      "outputs": [],
      "source": []
    },
    {
      "cell_type": "markdown",
      "source": [
        "1.What is Python, and why is it popular?\n",
        "\n",
        "soln- Python is a high-level, interpreted, general-purpose programming language known for its simple syntax, readability, and versatility.\n",
        "It’s popular because:\n",
        "\n",
        "Easy to learn and use\n",
        "\n",
        "Huge standard library\n",
        "\n",
        "Strong community support\n",
        "\n",
        "Works in multiple domains (web, data science, AI, automation, etc.)\n",
        "\n",
        "Cross-platform compatibility\n",
        "\n",
        "\n",
        "2.What is an interpreter in Python?\n",
        "\n",
        "soln-The Python interpreter is the program that executes Python code by translating it into machine-readable instructions line-by-line at runtime.\n",
        "\n",
        "3.What are pre-defined keywords in Python?\n",
        "\n",
        "soln-Pre-defined keywords are reserved words that have special meaning in Python syntax (e.g., if, else, for, def, class). They cannot be used as variable or function names.\n",
        "\n",
        "4.can keywords be used as variable names?\n",
        "\n",
        "soln- No. Keywords are reserved by Python for specific purposes and cannot be used as variable names.\n",
        "\n",
        "5.What is mutability in Python?\n",
        "\n",
        "soln- Mutability refers to whether an object’s content can be changed after creation.\n",
        "\n",
        "Mutable: Can be modified (e.g., list, dict, set)\n",
        "\n",
        "Immutable: Cannot be modified (e.g., tuple, str, int)\n",
        "\n",
        "6. Why are lists mutable, but tuples are immutable?\n",
        "\n",
        "soln- Lists are designed to store dynamic, changeable collections of items, so Python allows in-place modification.\n",
        "\n",
        "Tuples are meant to store fixed, read-only collections of items, so Python prevents changes for safety and optimization.\n",
        "\n",
        "7. What is the difference between == and is operators in Python?\n",
        "\n",
        "soln- == → Checks if values are equal\n",
        "\n",
        "is → Checks if both references point to the same object in memory\n",
        "\n",
        "Example:\n"
      ],
      "metadata": {
        "id": "mgLE7tEUIrkd"
      }
    },
    {
      "cell_type": "code",
      "source": [
        "a = [1, 2]\n",
        "b = [1, 2]\n",
        "print(a == b)  # True (values are equal)\n",
        "print(a is b)  # False (different memory locations)\n"
      ],
      "metadata": {
        "colab": {
          "base_uri": "https://localhost:8080/"
        },
        "id": "iP2NnVYKIyhi",
        "outputId": "5b4698d5-c38f-400c-b405-094482bdd942"
      },
      "execution_count": 1,
      "outputs": [
        {
          "output_type": "stream",
          "name": "stdout",
          "text": [
            "True\n",
            "False\n"
          ]
        }
      ]
    },
    {
      "cell_type": "markdown",
      "source": [
        "8. What are logical operators in Python?\n",
        "\n",
        "soln-Logical operators combine conditional expressions:\n",
        "\n",
        "and → True if both conditions are True\n",
        "\n",
        "or → True if at least one condition is True\n",
        "\n",
        "not → Reverses the boolean value\n",
        "\n",
        "9. What is type casting in Python?\n",
        "\n",
        "soln-Type casting is converting a value from one data type to another, such as from int to float or str.\n",
        "\n",
        "10. What is the difference between implicit and explicit type casting?\n",
        "\n",
        "soln-Implicit Casting (Type Conversion): Done automatically by Python when safe.\n",
        "Example: 3 + 2.5 → 5.5 (int automatically becomes float)\n",
        "\n",
        "Explicit Casting: Done manually using functions like int(), float(), str().\n",
        "\n",
        "11. What is the purpose of conditional statements in Python?\n",
        "\n",
        "soln-Conditional statements allow programs to make decisions and execute code selectively based on conditions (if, elif, else).\n",
        "\n",
        "12. How does the elif statement work?\n",
        "\n",
        "soln-elif stands for “else if” and is used to check multiple conditions in sequence. It is evaluated only if all previous if/elif conditions are False.\n",
        "\n",
        "13. What is the difference between for and while loops?\n",
        "\n",
        "soln-for loop → Iterates over a sequence (range, list, tuple, etc.) with a known number of iterations.\n",
        "\n",
        "while loop → Runs as long as a condition is True, useful when the number of iterations is unknown.\n",
        "\n",
        "14. Describe a scenario where a while loop is more suitable than a for loop.\n",
        "\n",
        "soln-When you don’t know in advance how many times the loop should run.\n",
        "Example: Continuously asking a user for input until they type \"exit\".\n",
        "\n",
        "secret_number = 7\n",
        "guess = None\n",
        "\n",
        "while guess != secret_number:\n",
        "    guess = int(input(\"Guess the number: \"))\n",
        "\n",
        "print(\"Correct! You guessed it.\")\n"
      ],
      "metadata": {
        "id": "v5pCKfT-I5Df"
      }
    },
    {
      "cell_type": "markdown",
      "source": [
        "\n",
        "\n",
        "# Practical Questions"
      ],
      "metadata": {
        "id": "vbmjMUP4KPaV"
      }
    },
    {
      "cell_type": "markdown",
      "source": [
        "1. Write a Python program to print \"Hello, World!\".\n",
        "\n",
        "soln-"
      ],
      "metadata": {
        "id": "kMSykfiPKhfi"
      }
    },
    {
      "cell_type": "code",
      "source": [
        "print(\"Hello, World!\")\n"
      ],
      "metadata": {
        "colab": {
          "base_uri": "https://localhost:8080/"
        },
        "id": "1-YkQghRLRrE",
        "outputId": "cc9ca941-4af3-4aa8-f526-a8c4ad4e4da3"
      },
      "execution_count": 3,
      "outputs": [
        {
          "output_type": "stream",
          "name": "stdout",
          "text": [
            "Hello, World!\n"
          ]
        }
      ]
    },
    {
      "cell_type": "markdown",
      "source": [
        "2.Write a Python program that displays your name and age."
      ],
      "metadata": {
        "id": "y1MHGRs7LV7g"
      }
    },
    {
      "cell_type": "code",
      "source": [
        "name = \"Aman\"\n",
        "age = 21\n",
        "print(f\"My name is {name} and I am {age} years old.\")\n"
      ],
      "metadata": {
        "colab": {
          "base_uri": "https://localhost:8080/"
        },
        "id": "YH4V_aOOLcZ8",
        "outputId": "2b99ba84-516b-4b92-cf34-8cea028c8a4b"
      },
      "execution_count": 4,
      "outputs": [
        {
          "output_type": "stream",
          "name": "stdout",
          "text": [
            "My name is Aman and I am 21 years old.\n"
          ]
        }
      ]
    },
    {
      "cell_type": "markdown",
      "source": [
        "3.Write code to print all the pre-defined keywords in Python using the keyword library."
      ],
      "metadata": {
        "id": "NRiB-HkbLjIM"
      }
    },
    {
      "cell_type": "code",
      "source": [
        "import keyword\n",
        "print(keyword.kwlist)\n"
      ],
      "metadata": {
        "colab": {
          "base_uri": "https://localhost:8080/"
        },
        "id": "cbWPZyDlLovF",
        "outputId": "4c98b355-5bca-44a7-fa60-626593e9c1c8"
      },
      "execution_count": 5,
      "outputs": [
        {
          "output_type": "stream",
          "name": "stdout",
          "text": [
            "['False', 'None', 'True', 'and', 'as', 'assert', 'async', 'await', 'break', 'class', 'continue', 'def', 'del', 'elif', 'else', 'except', 'finally', 'for', 'from', 'global', 'if', 'import', 'in', 'is', 'lambda', 'nonlocal', 'not', 'or', 'pass', 'raise', 'return', 'try', 'while', 'with', 'yield']\n"
          ]
        }
      ]
    },
    {
      "cell_type": "markdown",
      "source": [
        "4.8 Write a program that checks if a given word is a Python keyword."
      ],
      "metadata": {
        "id": "pluIypoRLs_5"
      }
    },
    {
      "cell_type": "code",
      "source": [
        "import keyword\n",
        "word = input(\"Enter a word: \")\n",
        "if keyword.iskeyword(word):\n",
        "    print(f\"{word} is a Python keyword.\")\n",
        "else:\n",
        "    print(f\"{word} is not a Python keyword.\")\n"
      ],
      "metadata": {
        "colab": {
          "base_uri": "https://localhost:8080/"
        },
        "id": "HNxb_0AzLwwb",
        "outputId": "2715c800-f64d-4ba8-b368-1be6f2c57b55"
      },
      "execution_count": 6,
      "outputs": [
        {
          "output_type": "stream",
          "name": "stdout",
          "text": [
            "Enter a word: rahul\n",
            "rahul is not a Python keyword.\n"
          ]
        }
      ]
    },
    {
      "cell_type": "markdown",
      "source": [
        "5.Create a list and tuple in Python, and demonstrate how attempting to change an element works differently\n",
        "for each."
      ],
      "metadata": {
        "id": "pE9_pEB6L5e1"
      }
    },
    {
      "cell_type": "code",
      "source": [
        "# Create a list and tuple\n",
        "my_list = [1, 2, 3]\n",
        "my_tuple = (1, 2, 3)\n",
        "\n",
        "# Modify list (works because lists are mutable)\n",
        "my_list[0] = 10\n",
        "print(\"Modified list:\", my_list)\n",
        "\n",
        "# Try to modify tuple (raises error because tuples are immutable)\n",
        "try:\n",
        "    my_tuple[0] = 10\n",
        "except TypeError as e:\n",
        "    print(\"Error when modifying tuple:\", e)\n",
        "\n"
      ],
      "metadata": {
        "colab": {
          "base_uri": "https://localhost:8080/"
        },
        "id": "hDU2y9APL9LF",
        "outputId": "221411ae-8857-4de5-d23f-abcba8de452b"
      },
      "execution_count": 9,
      "outputs": [
        {
          "output_type": "stream",
          "name": "stdout",
          "text": [
            "Modified list: [10, 2, 3]\n",
            "Error when modifying tuple: 'tuple' object does not support item assignment\n"
          ]
        }
      ]
    },
    {
      "cell_type": "markdown",
      "source": [
        "6. Write a function to demonstrate the behavior of mutable and immutable arguments"
      ],
      "metadata": {
        "id": "Y_2jqahnMDib"
      }
    },
    {
      "cell_type": "code",
      "source": [
        "def modify_list(lst):\n",
        "    lst.append(4)  # mutable\n",
        "\n",
        "def modify_number(num):\n",
        "    num += 5  # immutable\n",
        "\n",
        "my_list = [1, 2, 3]\n",
        "my_num = 10\n",
        "\n",
        "modify_list(my_list)\n",
        "modify_number(my_num)\n",
        "\n",
        "print(\"List after modification:\", my_list)  # Changed\n",
        "print(\"Number after modification:\", my_num) # Unchanged\n"
      ],
      "metadata": {
        "colab": {
          "base_uri": "https://localhost:8080/"
        },
        "id": "btUcedsVMH1b",
        "outputId": "68c669b9-1ff8-4f75-f886-d007b389e535"
      },
      "execution_count": 8,
      "outputs": [
        {
          "output_type": "stream",
          "name": "stdout",
          "text": [
            "List after modification: [1, 2, 3, 4]\n",
            "Number after modification: 10\n"
          ]
        }
      ]
    },
    {
      "cell_type": "markdown",
      "source": [
        "7. Write a program that performs basic arithmetic operations on two user-input numbers."
      ],
      "metadata": {
        "id": "iprMcb2nMmDB"
      }
    },
    {
      "cell_type": "code",
      "source": [
        "a = float(input(\"Enter first number: \"))\n",
        "b = float(input(\"Enter second number: \"))\n",
        "\n",
        "print(\"Sum:\", a + b)\n",
        "print(\"Difference:\", a - b)\n",
        "print(\"Product:\", a * b)\n",
        "print(\"Quotient:\", a / b)\n"
      ],
      "metadata": {
        "colab": {
          "base_uri": "https://localhost:8080/"
        },
        "id": "oeK1AVaLMqLo",
        "outputId": "3ae12cbc-2730-4415-b2f4-11248fa7fc50"
      },
      "execution_count": 10,
      "outputs": [
        {
          "output_type": "stream",
          "name": "stdout",
          "text": [
            "Enter first number: 5\n",
            "Enter second number: 7\n",
            "Sum: 12.0\n",
            "Difference: -2.0\n",
            "Product: 35.0\n",
            "Quotient: 0.7142857142857143\n"
          ]
        }
      ]
    },
    {
      "cell_type": "markdown",
      "source": [
        "8.Write a program to demonstrate the use of logical operators."
      ],
      "metadata": {
        "id": "daEMI3m5My39"
      }
    },
    {
      "cell_type": "code",
      "source": [
        "x = True\n",
        "y = False\n",
        "\n",
        "print(\"x and y:\", x and y)\n",
        "print(\"x or y:\", x or y)\n",
        "print(\"not x:\", not x)\n"
      ],
      "metadata": {
        "colab": {
          "base_uri": "https://localhost:8080/"
        },
        "id": "SQppLRnhM2sj",
        "outputId": "def87540-fa57-4c83-aa79-1e709c581dcc"
      },
      "execution_count": 11,
      "outputs": [
        {
          "output_type": "stream",
          "name": "stdout",
          "text": [
            "x and y: False\n",
            "x or y: True\n",
            "not x: False\n"
          ]
        }
      ]
    },
    {
      "cell_type": "markdown",
      "source": [
        "9. Write a Python program to convert user input from string to integer, float, and boolean types."
      ],
      "metadata": {
        "id": "yeNLpv4cM60D"
      }
    },
    {
      "cell_type": "code",
      "source": [
        "data = input(\"Enter something: \")\n",
        "print(\"As integer:\", int(data))\n",
        "print(\"As float:\", float(data))\n",
        "print(\"As boolean:\", bool(data))\n"
      ],
      "metadata": {
        "colab": {
          "base_uri": "https://localhost:8080/"
        },
        "id": "HFxcGCHnNahj",
        "outputId": "1ccf6b3c-7be1-4d45-ccc4-2108d06f6508"
      },
      "execution_count": 13,
      "outputs": [
        {
          "output_type": "stream",
          "name": "stdout",
          "text": [
            "Enter something: 765\n",
            "As integer: 765\n",
            "As float: 765.0\n",
            "As boolean: True\n"
          ]
        }
      ]
    },
    {
      "cell_type": "markdown",
      "source": [
        "10. Write code to demonstrate type casting with list elements."
      ],
      "metadata": {
        "id": "2EYGVTy_Nfse"
      }
    },
    {
      "cell_type": "code",
      "source": [
        "str_list = [\"1\", \"2\", \"3\"]\n",
        "int_list = list(map(int, str_list))\n",
        "print(\"Converted to integers:\", int_list)\n"
      ],
      "metadata": {
        "colab": {
          "base_uri": "https://localhost:8080/"
        },
        "id": "y0K63hr6NjXX",
        "outputId": "e8a1128e-186b-4221-c1bb-0826ac0cf59f"
      },
      "execution_count": 14,
      "outputs": [
        {
          "output_type": "stream",
          "name": "stdout",
          "text": [
            "Converted to integers: [1, 2, 3]\n"
          ]
        }
      ]
    },
    {
      "cell_type": "markdown",
      "source": [
        "11. Write a program that checks if a number is positive, negative, or zero."
      ],
      "metadata": {
        "id": "k9sAGKVDNmih"
      }
    },
    {
      "cell_type": "code",
      "source": [
        "num = float(input(\"Enter a number: \"))\n",
        "if num > 0:\n",
        "    print(\"Positive\")\n",
        "elif num < 0:\n",
        "    print(\"Negative\")\n",
        "else:\n",
        "    print(\"Zero\")\n"
      ],
      "metadata": {
        "colab": {
          "base_uri": "https://localhost:8080/"
        },
        "id": "g4FiV1SyNp-X",
        "outputId": "53acda05-8004-484f-a16c-6be9779410fd"
      },
      "execution_count": 15,
      "outputs": [
        {
          "output_type": "stream",
          "name": "stdout",
          "text": [
            "Enter a number: 56\n",
            "Positive\n"
          ]
        }
      ]
    },
    {
      "cell_type": "markdown",
      "source": [
        "12. Write a for loop to print numbers from 1 to 10."
      ],
      "metadata": {
        "id": "XI5HxdbGNuih"
      }
    },
    {
      "cell_type": "code",
      "source": [
        "for i in range(1, 11):\n",
        "    print(i)\n"
      ],
      "metadata": {
        "colab": {
          "base_uri": "https://localhost:8080/"
        },
        "id": "ij1lemVDNya8",
        "outputId": "5336879e-d5d9-4aa7-fdc5-db9beb56e34c"
      },
      "execution_count": 16,
      "outputs": [
        {
          "output_type": "stream",
          "name": "stdout",
          "text": [
            "1\n",
            "2\n",
            "3\n",
            "4\n",
            "5\n",
            "6\n",
            "7\n",
            "8\n",
            "9\n",
            "10\n"
          ]
        }
      ]
    },
    {
      "cell_type": "markdown",
      "source": [
        "13. Write a Python program to find the sum of all even numbers between 1 and 50.."
      ],
      "metadata": {
        "id": "LDnBixSZN3dI"
      }
    },
    {
      "cell_type": "code",
      "source": [
        "total = 0\n",
        "for i in range(2, 51, 2):\n",
        "    total += i\n",
        "print(\"Sum of even numbers:\", total)\n"
      ],
      "metadata": {
        "colab": {
          "base_uri": "https://localhost:8080/"
        },
        "id": "J3d_ASO1N7qY",
        "outputId": "ccaa0280-b09c-45a8-9b7d-1a3218c624e2"
      },
      "execution_count": 17,
      "outputs": [
        {
          "output_type": "stream",
          "name": "stdout",
          "text": [
            "Sum of even numbers: 650\n"
          ]
        }
      ]
    },
    {
      "cell_type": "markdown",
      "source": [
        "14.Write a program to reverse a string using a while loop."
      ],
      "metadata": {
        "id": "UoJMTuNgN-vv"
      }
    },
    {
      "cell_type": "code",
      "source": [
        "s = input(\"Enter a string: \")\n",
        "reversed_str = \"\"\n",
        "i = len(s) - 1\n",
        "while i >= 0:\n",
        "    reversed_str += s[i]\n",
        "    i -= 1\n",
        "print(\"Reversed string:\", reversed_str)\n"
      ],
      "metadata": {
        "colab": {
          "base_uri": "https://localhost:8080/"
        },
        "id": "xm1ae6NEODfC",
        "outputId": "1259dd50-5769-4d59-9bab-ac4c41233a98"
      },
      "execution_count": 18,
      "outputs": [
        {
          "output_type": "stream",
          "name": "stdout",
          "text": [
            "Enter a string: 345\n",
            "Reversed string: 543\n"
          ]
        }
      ]
    },
    {
      "cell_type": "markdown",
      "source": [
        "15. Write a Python program to calculate the factorial of a number provided by the user using a while loop."
      ],
      "metadata": {
        "id": "_lECx0_BOIZl"
      }
    },
    {
      "cell_type": "code",
      "source": [
        "n = int(input(\"Enter a number: \"))\n",
        "factorial = 1\n",
        "while n > 0:\n",
        "    factorial *= n\n",
        "    n -= 1\n",
        "print(\"Factorial:\", factorial)\n"
      ],
      "metadata": {
        "colab": {
          "base_uri": "https://localhost:8080/"
        },
        "id": "jXTo-z1OONVm",
        "outputId": "98d46e98-e252-4233-d221-439aae716e69"
      },
      "execution_count": 19,
      "outputs": [
        {
          "output_type": "stream",
          "name": "stdout",
          "text": [
            "Enter a number: 56\n",
            "Factorial: 710998587804863451854045647463724949736497978881168458687447040000000000000\n"
          ]
        }
      ]
    }
  ]
}